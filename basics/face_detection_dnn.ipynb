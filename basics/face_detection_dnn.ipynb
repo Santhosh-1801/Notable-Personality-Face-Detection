{
 "cells": [
  {
   "cell_type": "code",
   "execution_count": 1,
   "id": "ea88d5ab",
   "metadata": {},
   "outputs": [],
   "source": [
    "import cv2 \n",
    "import numpy \n"
   ]
  },
  {
   "cell_type": "code",
   "execution_count": 6,
   "id": "1dad4d37",
   "metadata": {},
   "outputs": [],
   "source": [
    "img=cv2.imread(\"./Downloads/images/facial.jpg\")\n",
    "cv2.imshow('faces',img)\n",
    "cv2.waitKey(0)\n",
    "cv2.destroyAllWindows()"
   ]
  },
  {
   "cell_type": "code",
   "execution_count": 12,
   "id": "cf9b6be4",
   "metadata": {},
   "outputs": [],
   "source": [
    "net=cv2.dnn.readNetFromCaffe('./Downloads/models/deploy.prototxt.txt','./Downloads/models/res10_300x300_ssd_iter_140000_fp16.caffemodel')"
   ]
  },
  {
   "cell_type": "code",
   "execution_count": 13,
   "id": "17c3487a",
   "metadata": {},
   "outputs": [],
   "source": [
    "blob=cv2.dnn.blobFromImage(img,1,(300,300),(104,177,123),swapRB=False)"
   ]
  },
  {
   "cell_type": "code",
   "execution_count": 14,
   "id": "7226fce1",
   "metadata": {},
   "outputs": [],
   "source": [
    "net.setInput(blob)\n",
    "detections=net.forward()"
   ]
  },
  {
   "cell_type": "code",
   "execution_count": 15,
   "id": "78da58c6",
   "metadata": {},
   "outputs": [
    {
     "data": {
      "text/plain": [
       "(1, 1, 200, 7)"
      ]
     },
     "execution_count": 15,
     "metadata": {},
     "output_type": "execute_result"
    }
   ],
   "source": [
    "detections.shape"
   ]
  },
  {
   "cell_type": "code",
   "execution_count": 17,
   "id": "cf0f7e66",
   "metadata": {},
   "outputs": [
    {
     "name": "stdout",
     "output_type": "stream",
     "text": [
      "0.9986683\n",
      "0.95874935\n",
      "0.9272312\n"
     ]
    }
   ],
   "source": [
    "for i in range(0,detections.shape[2]):\n",
    "    confidence=detections[0,0,i,2]\n",
    "    if confidence>0.5:\n",
    "        print(confidence)"
   ]
  },
  {
   "cell_type": "code",
   "execution_count": 24,
   "id": "2faf28ad",
   "metadata": {},
   "outputs": [],
   "source": [
    "h,w=img.shape[:2]\n",
    "for i in range(0,detections.shape[2]):\n",
    "    confidence=detections[0,0,i,2]\n",
    "    if confidence>=0.5:\n",
    "        box=detections[0,0,i,3:7]\n",
    "        box=box*numpy.array([w,h,w,h])\n",
    "        box=box.astype(int)\n",
    "        startx,starty,endx,endy=box \n",
    "        \n",
    "        cv2.rectangle(img,(startx,starty),(endx,endy),(0,255,0)) \n",
    "        \n",
    "        text='Face:{:.2f}%'.format(confidence*100)\n",
    "        cv2.putText(img,text,(startx,starty-10),cv2.FONT_HERSHEY_PLAIN,1,(255,255,255),)\n",
    "        \n",
    "cv2.imshow('face detect',img)\n",
    "cv2.waitKey(0)\n",
    "cv2.destroyAllWindows()"
   ]
  },
  {
   "cell_type": "code",
   "execution_count": null,
   "id": "d1309ca6",
   "metadata": {},
   "outputs": [],
   "source": []
  }
 ],
 "metadata": {
  "kernelspec": {
   "display_name": "Python 3 (ipykernel)",
   "language": "python",
   "name": "python3"
  },
  "language_info": {
   "codemirror_mode": {
    "name": "ipython",
    "version": 3
   },
   "file_extension": ".py",
   "mimetype": "text/x-python",
   "name": "python",
   "nbconvert_exporter": "python",
   "pygments_lexer": "ipython3",
   "version": "3.10.0"
  }
 },
 "nbformat": 4,
 "nbformat_minor": 5
}
