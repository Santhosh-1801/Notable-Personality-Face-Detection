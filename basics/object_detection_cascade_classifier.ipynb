{
 "cells": [
  {
   "cell_type": "code",
   "execution_count": 112,
   "id": "aa97f67b",
   "metadata": {},
   "outputs": [],
   "source": [
    "import cv2  \n",
    "import numpy"
   ]
  },
  {
   "cell_type": "markdown",
   "id": "e01b8921",
   "metadata": {},
   "source": [
    "## Face Detection"
   ]
  },
  {
   "cell_type": "code",
   "execution_count": 113,
   "id": "f635f6c8",
   "metadata": {},
   "outputs": [],
   "source": [
    "img=cv2.imread(\"./Downloads/images/man1.jpg\")"
   ]
  },
  {
   "cell_type": "code",
   "execution_count": 114,
   "id": "e99c2ed9",
   "metadata": {},
   "outputs": [],
   "source": [
    "cv2.imshow('Image',img)\n",
    "cv2.waitKey(0)\n",
    "cv2.destroyAllWindows()"
   ]
  },
  {
   "cell_type": "code",
   "execution_count": 115,
   "id": "095a3906",
   "metadata": {},
   "outputs": [],
   "source": [
    "face_cascade=cv2.CascadeClassifier('./Downloads/cascade_classifier/haarcascade_frontalface_default.xml')"
   ]
  },
  {
   "cell_type": "code",
   "execution_count": 116,
   "id": "3f159ebb",
   "metadata": {},
   "outputs": [],
   "source": [
    "faces,num_detection=face_cascade.detectMultiScale2(img)"
   ]
  },
  {
   "cell_type": "code",
   "execution_count": 117,
   "id": "e28ea595",
   "metadata": {},
   "outputs": [
    {
     "data": {
      "text/plain": [
       "array([[ 76, 121, 366, 366]])"
      ]
     },
     "execution_count": 117,
     "metadata": {},
     "output_type": "execute_result"
    }
   ],
   "source": [
    "faces"
   ]
  },
  {
   "cell_type": "code",
   "execution_count": 118,
   "id": "6623609e",
   "metadata": {},
   "outputs": [
    {
     "name": "stdout",
     "output_type": "stream",
     "text": [
      "[[ 76 121 366 366]]\n"
     ]
    }
   ],
   "source": [
    "print(faces)\n"
   ]
  },
  {
   "cell_type": "code",
   "execution_count": 119,
   "id": "4858e2e2",
   "metadata": {},
   "outputs": [
    {
     "name": "stdout",
     "output_type": "stream",
     "text": [
      "[53]\n"
     ]
    }
   ],
   "source": [
    "print(num_detection)"
   ]
  },
  {
   "cell_type": "code",
   "execution_count": 120,
   "id": "e6f63b1f",
   "metadata": {},
   "outputs": [],
   "source": [
    "pt1=(faces[0][0],faces[0][1])\n",
    "pt2=(faces[0][0]+faces[0][2],faces[0][1]+faces[0][3])\n",
    "cv2.rectangle(img,pt1,pt2,(0,255,0))\n",
    "cv2.imshow(\"Face Detection\",img)\n",
    "cv2.waitKey(0)\n",
    "cv2.destroyAllWindows()"
   ]
  },
  {
   "cell_type": "code",
   "execution_count": 121,
   "id": "a44a9344",
   "metadata": {},
   "outputs": [],
   "source": [
    "#draw the circle \n",
    "cx=76+366 //2\n",
    "cy=121+366 //2\n",
    "r=366//2 \n",
    " \n",
    "cv2.circle(img,(cx,cy),r,(0,255,255),2)\n",
    "cv2.imshow('Face Detection Circle',img)\n",
    "cv2.waitKey(0)\n",
    "cv2.destroyAllWindows()"
   ]
  },
  {
   "cell_type": "code",
   "execution_count": 122,
   "id": "1fe62931",
   "metadata": {},
   "outputs": [],
   "source": [
    "img=cv2.imread('./Downloads/images/friends.jpg') \n",
    "cv2.imshow('image',img)\n",
    "cv2.waitKey(0)\n",
    "cv2.destroyAllWindows()"
   ]
  },
  {
   "cell_type": "code",
   "execution_count": 123,
   "id": "266d56f2",
   "metadata": {},
   "outputs": [
    {
     "name": "stdout",
     "output_type": "stream",
     "text": [
      "[[251  65 103 103]\n",
      " [ 44 117 100 100]\n",
      " [450  66 102 102]]\n"
     ]
    }
   ],
   "source": [
    "#Mutliple face recognition \n",
    "face_cascade=cv2.CascadeClassifier('./Downloads/cascade_classifier/haarcascade_frontalface_default.xml') \n",
    " \n",
    "#Step 1:Apply Cascade Classifier to an image\n",
    "faces,num_detection=face_cascade.detectMultiScale2(img,minNeighbors=8) \n",
    "print(faces) \n",
    "#Step 2:Run a loop \n",
    "for x,y,w,h in faces:\n",
    "    cv2.rectangle(img,(x,y),(x+w,y+h),(0,255,0))\n",
    "\n",
    "#Step3:Displaying the results \n",
    "cv2.imshow('face detection',img)\n",
    "cv2.waitKey(0)\n",
    "cv2.destroyAllWindows()"
   ]
  },
  {
   "cell_type": "code",
   "execution_count": 124,
   "id": "20fa5605",
   "metadata": {},
   "outputs": [
    {
     "name": "stdout",
     "output_type": "stream",
     "text": [
      "[84 86 74]\n"
     ]
    }
   ],
   "source": [
    "print(num_detection)"
   ]
  },
  {
   "cell_type": "markdown",
   "id": "78977027",
   "metadata": {},
   "source": [
    "## Face and Eye Detection "
   ]
  },
  {
   "cell_type": "code",
   "execution_count": 125,
   "id": "8e649b0c",
   "metadata": {},
   "outputs": [],
   "source": [
    "face_cascade=cv2.CascadeClassifier('./Downloads/cascade_classifier/haarcascade_frontalface_default.xml')  \n",
    "eye_cascade=cv2.CascadeClassifier('./Downloads/cascade_classifier/haarcascade_eye.xml') "
   ]
  },
  {
   "cell_type": "code",
   "execution_count": 126,
   "id": "7a700b9b",
   "metadata": {},
   "outputs": [],
   "source": [
    "faces,num_detection_face=face_cascade.detectMultiScale2(img,minNeighbors=8)\n",
    "for x,y,w,h in faces:\n",
    "    cv2.rectangle(img,(x,y),(x+w,y+h),(0,255,0))\n",
    "     \n",
    "    #Cropping the image    \n",
    "    face_roi=img[y:y+h,x:x+h]\n",
    "    #Applying cascade classifier to an face to detect eyes \n",
    "    eyes,num_detection_eyes=eye_cascade.detectMultiScale2(face_roi)\n",
    "    for ex,ey,ew,eh in eyes:\n",
    "        cx=x+ex+ew//2\n",
    "        cy=y+ey+eh//2\n",
    "        r=eh//2\n",
    "        cv2.circle(img,(cx,cy),r,(255,0,255),2)\n",
    "         \n",
    "    \n",
    "    \n",
    "cv2.imshow('Face Detection',img)\n",
    "cv2.waitKey(0)\n",
    "cv2.destroyAllWindows()\n",
    "        \n",
    "    "
   ]
  },
  {
   "cell_type": "markdown",
   "id": "54e1feba",
   "metadata": {},
   "source": [
    "## Smile Detection "
   ]
  },
  {
   "cell_type": "code",
   "execution_count": 127,
   "id": "24280503",
   "metadata": {},
   "outputs": [],
   "source": [
    "face_cascade=cv2.CascadeClassifier('./Downloads/cascade_classifier/haarcascade_frontalface_default.xml')  \n",
    "eye_cascade=cv2.CascadeClassifier('./Downloads/cascade_classifier/haarcascade_eye.xml')  \n",
    "smile_cascade=cv2.CascadeClassifier('./Downloads/cascade_classifier/haarcascade_smile.xml')   \n",
    "\n",
    "\n",
    "faces,num_detection_face=face_cascade.detectMultiScale2(img,minNeighbors=8)\n",
    "for x,y,w,h in faces:\n",
    "    face_roi=img[y:y+h,x:x+h].copy()\n",
    "    cv2.rectangle(img,(x,y),(x+w,y+h),(0,255,0))\n",
    "     \n",
    "    #Applying cascade classifier to an face to detect eyes \n",
    "    eyes,num_detection_eyes=eye_cascade.detectMultiScale2(face_roi)\n",
    "    for ex,ey,ew,eh in eyes:\n",
    "        cx=x+ex+ew//2\n",
    "        cy=y+ey+eh//2\n",
    "        r=eh//2\n",
    "        cv2.circle(img,(cx,cy),r,(255,0,255),2) \n",
    "        \n",
    "        \n",
    "    smiles,num_detection_smiles=smile_cascade.detectMultiScale2(face_roi)\n",
    "    for sx,sy,sw,sh in smiles:\n",
    "         cv2.rectangle(img,(x+sx,y+sy),(x+sx+sw,y+sy+sh),(255,0,0),2) \n",
    "            \n",
    "\n",
    "cv2.imshow('face eye smile detection',img)\n",
    "cv2.waitKey(0)\n",
    "cv2.destroyAllWindows()\n",
    "        \n",
    "    "
   ]
  },
  {
   "cell_type": "code",
   "execution_count": null,
   "id": "b5131441",
   "metadata": {},
   "outputs": [],
   "source": []
  }
 ],
 "metadata": {
  "kernelspec": {
   "display_name": "Python 3 (ipykernel)",
   "language": "python",
   "name": "python3"
  },
  "language_info": {
   "codemirror_mode": {
    "name": "ipython",
    "version": 3
   },
   "file_extension": ".py",
   "mimetype": "text/x-python",
   "name": "python",
   "nbconvert_exporter": "python",
   "pygments_lexer": "ipython3",
   "version": "3.10.0"
  }
 },
 "nbformat": 4,
 "nbformat_minor": 5
}
