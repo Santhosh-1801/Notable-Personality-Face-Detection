{
 "cells": [
  {
   "cell_type": "code",
   "execution_count": 1,
   "id": "d9358e8a",
   "metadata": {},
   "outputs": [],
   "source": [
    "import numpy as np \n",
    "import cv2 \n",
    "import sklearn  \n",
    "import pickle"
   ]
  },
  {
   "cell_type": "code",
   "execution_count": 2,
   "id": "5411c31f",
   "metadata": {},
   "outputs": [
    {
     "name": "stdout",
     "output_type": "stream",
     "text": [
      "C:\\Users\\welcome\\Downloads\\Face Recognition\n"
     ]
    }
   ],
   "source": [
    "%cd C:\\Users\\welcome\\Downloads\\Face Recognition"
   ]
  },
  {
   "cell_type": "code",
   "execution_count": 3,
   "id": "6ec28a6e",
   "metadata": {},
   "outputs": [],
   "source": [
    "#face detection \n",
    "face_detector_model=cv2.dnn.readNetFromCaffe('./models/deploy.prototxt.txt','./models/res10_300x300_ssd_iter_140000_fp16.caffemodel') \n",
    "\n",
    "#feature extraction\n",
    "face_feature_model=cv2.dnn.readNetFromTorch('./models/openface.nn4.small2.v1.t7')\n",
    "\n",
    "#face recognition \n",
    "face_recognition_model=pickle.load(open('./models/machinelearning_face_person_identity.pkl',mode='rb'))"
   ]
  },
  {
   "cell_type": "code",
   "execution_count": 4,
   "id": "12d94a25",
   "metadata": {},
   "outputs": [],
   "source": [
    "#emotion recognition \n",
    "emotion_recognition_model=pickle.load(open('./models/machinelearning_face_emotion_identity.pkl',mode='rb'))"
   ]
  },
  {
   "cell_type": "code",
   "execution_count": 12,
   "id": "5e1812a5",
   "metadata": {},
   "outputs": [],
   "source": [
    "def pipeline_model(path):\n",
    "    img=cv2.imread(path)\n",
    "    image=img.copy()\n",
    "    h,w=img.shape[:2]\n",
    "\n",
    "    #face detection \n",
    "    img_blob=cv2.dnn.blobFromImage(img,1,(300,300),(104,177,123),swapRB=False,crop=False)\n",
    "    face_detector_model.setInput(img_blob)\n",
    "    detections=face_detector_model.forward()\n",
    "    \n",
    "    \n",
    "    #machinelearning results \n",
    "    machinelearningresults=dict(face_detect_score=[],face_name=[],face_name_score=[],emotion_name=[],count=[]) \n",
    "    \n",
    "    \n",
    "    \n",
    "    count=1\n",
    "\n",
    "\n",
    "    if len(detections)>0:\n",
    "        for i, confidence in enumerate(detections[0,0,:,2]):\n",
    "            if confidence>0.5:\n",
    "                box=detections[0,0,i,3:7]*np.array([w,h,w,h])\n",
    "                startx,starty,endx,endy=box.astype(int)\n",
    "\n",
    "                cv2.rectangle(image,(startx,starty),(endx,endy),(0,255,0))\n",
    "\n",
    "                #feature extraction \n",
    "                face_roi=img[starty:endy,startx:endx]\n",
    "                face_blob=cv2.dnn.blobFromImage(face_roi,1/255,(96,96),(0,0,0),swapRB=True,crop=True)\n",
    "                face_feature_model.setInput(face_blob)\n",
    "                vectors=face_feature_model.forward()\n",
    "\n",
    "                #predict with machine learning for face recognition\n",
    "                face_name=face_recognition_model.predict(vectors)[0]\n",
    "                face_score=face_recognition_model.predict_proba(vectors).max() \n",
    "\n",
    "                #predict with machine learning for emotion recognition \n",
    "                emotion_name=emotion_recognition_model.predict(vectors)[0]\n",
    "\n",
    "\n",
    "                text_face='{} : {:.0f} %'.format(face_name,100*face_score)\n",
    "                text_emotion='{}'.format(emotion_name)\n",
    "                cv2.putText(image,text_face,(startx,starty),cv2.FONT_HERSHEY_PLAIN,1,(255,255,255),2)\n",
    "                cv2.putText(image,text_emotion,(startx,endy),cv2.FONT_HERSHEY_PLAIN,1,(255,255,255),2)\n",
    "                \n",
    "                \n",
    "                machinelearningresults['count'].append(count) \n",
    "                machinelearningresults['face_detect_score'].append(confidence)\n",
    "                machinelearningresults['face_name'].append(face_name)\n",
    "                machinelearningresults['face_name_score'].append(face_score)\n",
    "                machinelearningresults['emotion_name'].append(emotion_name)\n",
    "                \n",
    "                \n",
    "                count+=1\n",
    "                \n",
    "    return machinelearningresults\n"
   ]
  },
  {
   "cell_type": "code",
   "execution_count": 13,
   "id": "7e06a227",
   "metadata": {},
   "outputs": [
    {
     "name": "stdout",
     "output_type": "stream",
     "text": [
      "{'face_detect_score': [0.9999292], 'face_name': ['Barack Obama'], 'face_name_score': [0.6011176631454145], 'emotion_name': ['happy'], 'count': [1]}\n"
     ]
    }
   ],
   "source": [
    "results=pipeline_model('./data/test/president.jpg')  \n",
    "print(results)\n"
   ]
  },
  {
   "cell_type": "code",
   "execution_count": null,
   "id": "6820fb01",
   "metadata": {},
   "outputs": [],
   "source": []
  }
 ],
 "metadata": {
  "kernelspec": {
   "display_name": "Python 3 (ipykernel)",
   "language": "python",
   "name": "python3"
  },
  "language_info": {
   "codemirror_mode": {
    "name": "ipython",
    "version": 3
   },
   "file_extension": ".py",
   "mimetype": "text/x-python",
   "name": "python",
   "nbconvert_exporter": "python",
   "pygments_lexer": "ipython3",
   "version": "3.10.0"
  }
 },
 "nbformat": 4,
 "nbformat_minor": 5
}
